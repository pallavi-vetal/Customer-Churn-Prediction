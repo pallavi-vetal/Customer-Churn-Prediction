{
 "cells": [
  {
   "cell_type": "code",
   "execution_count": 1,
   "metadata": {},
   "outputs": [
    {
     "name": "stderr",
     "output_type": "stream",
     "text": [
      "Using TensorFlow backend.\n"
     ]
    }
   ],
   "source": [
    "from flask import Flask, flash , redirect, render_template , request, session, abort , Markup\n",
    "import os\n",
    "import pandas as pd\n",
    "import numpy as np\n",
    "import tensorflow as tf\n",
    "import keras\n",
    "from keras.models import load_model\n",
    "from keras import backend as K\n",
    "from werkzeug import secure_filename\n",
    "import json\n",
    "from scipy.stats import kurtosis, skew\n",
    "import csv\n",
    "from sklearn.model_selection import train_test_split\n",
    "from sklearn.preprocessing import StandardScaler\n",
    "import pickle"
   ]
  },
  {
   "cell_type": "code",
   "execution_count": 2,
   "metadata": {},
   "outputs": [],
   "source": [
    "app = Flask(__name__)\n",
    "app.secret_key = os.urandom(12)\n",
    "\n",
    "dropdown_list = []\n",
    "dropdown_list_2 = []"
   ]
  },
  {
   "cell_type": "code",
   "execution_count": 3,
   "metadata": {},
   "outputs": [],
   "source": [
    "@app.route('/upload')\n",
    "def upload_file():\n",
    "    dropdown_list.clear()\n",
    "    dropdown_list_2.clear()\n",
    "    return render_template('upload.html')"
   ]
  },
  {
   "cell_type": "code",
   "execution_count": 4,
   "metadata": {},
   "outputs": [],
   "source": [
    "@app.route('/input_percent' , methods = ['GET','POST'])\n",
    "def input_num():\n",
    "    x = request.form[\"in\"]\n",
    "    print(\"dsjfkkdsjf\",x)\n",
    "    fpath = os.path.join(\"default\", \"testtestreason1.csv\")\n",
    "    line = pd.read_csv(fpath).shape[0]\n",
    "    y = round((float(x)*line)/100)\n",
    "    print(line)\n",
    "    print(y)\n",
    "    ls = []\n",
    "    lschurn=[]\n",
    "    with open(fpath) as file:\n",
    "        allRead = csv.reader(file, delimiter=',')\n",
    "        lineCount = 0\n",
    "        for row in allRead:\n",
    "            if lineCount == 0:\n",
    "                lineCount += 1\n",
    "            elif lineCount <= y and lineCount != 0:\n",
    "                ls.append(row[1])\n",
    "                lschurn.append(row[13])\n",
    "                lineCount += 1\n",
    "    lss=list(map(lambda x: float(x*100),list(pd.read_csv(fpath)['Exited'][:y].copy())))  \n",
    "    print(lss)\n",
    "    print(lschurn)\n",
    "    return render_template('Percent.html', outList = ls, value_list=lschurn,values_res=lss )\n"
   ]
  },
  {
   "cell_type": "code",
   "execution_count": 5,
   "metadata": {},
   "outputs": [],
   "source": [
    "@app.route('/check/<string:dropdown>',methods=['POST','GET'])\n",
    "def specific(dropdown):\n",
    "    x = dropdown\n",
    "    yo = predict_default(x)\n",
    "    x = search_default(x)\n",
    "    rownum  = x[0]\n",
    "    ccid = x[1]\n",
    "    surname = x[2]\n",
    "    creditscore  = x[3]\n",
    "    geo = x[4]\n",
    "    gender  = x[5]\n",
    "    age  = x[6]\n",
    "    tenure = x[7]\n",
    "    balance  = x[8]\n",
    "    numpro = x[9]\n",
    "    hascard = x[10]\n",
    "    activemem = x[11]\n",
    "    salary = x[12]    \n",
    "    x = x[13]\n",
    "    pred= float(x)*100\n",
    "    labels = [\"probability\",\"\"]\n",
    "    values = [pred]\n",
    "    labels_res = [\"Excess Documents Required\",\"High Service Charges/Rate of Interest\",\"Inexperienced Staff / Bad customer service\",\"Long Response Times\"]\n",
    "    values_res = [float(i)*100 for i in yo[0]]\n",
    "    x = float(x)*100\n",
    "    x = round(x,2)\n",
    "    values_res[0] = round(values_res[0],2)\n",
    "    values_res[1] = round(values_res[1],2)\n",
    "    values_res[2] = round(values_res[2],2)\n",
    "    values_res[3] = round(values_res[3],2)\n",
    "    colors = [ \"#F7464A\", \"#46BFBD\", \"#FDB45C\" , \"#ABCDEF\"]\n",
    "    return render_template('Chart.html', set=zip(values_res, labels_res, colors),firstname=x, \n",
    "                           rownum=rownum, ccid=ccid, surname=surname, creditscore=creditscore, \n",
    "                           geo=geo, gender=gender, age=age, tenure=tenure, balance=balance, \n",
    "                           numpro=numpro, hascard = hascard, activemem = activemem, salary = salary, secondname = values_res[0] , secondname1 = values_res[1] , secondname2 = values_res[2] , \n",
    "                           secondname3 = values_res[3] ,labels_res=labels_res,values_res=values_res, values=values, labels=labels)"
   ]
  },
  {
   "cell_type": "code",
   "execution_count": 6,
   "metadata": {},
   "outputs": [],
   "source": [
    "def preprocess_data(fileInput):\n",
    "    dataset = pd.read_csv(fileInput)\n",
    "    dataset['Geography'] = dataset['Geography'].astype('category')\n",
    "    dataset['Gender'] = dataset['Gender'].astype('category')\n",
    "    dataset['EstimatedSalary'] = dataset['EstimatedSalary'].astype('float32')\n",
    "    dataset['Balance'] = dataset['Balance'].astype('float32')\n",
    "    cat_columns = dataset.select_dtypes(['category']).columns\n",
    "    dataset[cat_columns] = dataset[cat_columns].apply(lambda x: x.cat.codes)\n",
    "    X = dataset.iloc[:, 3:13].values\n",
    "    Y = dataset.iloc[:, 13].values\n",
    "    sc = StandardScaler()\n",
    "    X_test = sc.fit_transform(X)\n",
    "    return X_test\n",
    "    \n",
    "    "
   ]
  },
  {
   "cell_type": "code",
   "execution_count": 7,
   "metadata": {},
   "outputs": [],
   "source": [
    "@app.route('/')\n",
    "def home():\n",
    "        return render_template('upload.html')\n"
   ]
  },
  {
   "cell_type": "code",
   "execution_count": 8,
   "metadata": {},
   "outputs": [],
   "source": [
    "def uploadFileAndPredict(filename):\n",
    "    K.clear_session()\n",
    "    dropdown_list_2.clear()\n",
    "    proceseed_data = preprocess_data(filename)\n",
    "    predictChurnAndReasons(proceseed_data,filename)\n",
    "    \n",
    "    return proceseed_data          \n",
    "    "
   ]
  },
  {
   "cell_type": "code",
   "execution_count": 9,
   "metadata": {},
   "outputs": [],
   "source": [
    "def predictChurnAndReasons(proceseed_data,filename):\n",
    "    model = pickle.load(open('SVCclassifier.h5', 'rb'))\n",
    "    y_pred = model.predict_proba(proceseed_data)\n",
    "    df = pd.read_csv(filename)\n",
    "    df['Exited'] = y_pred\n",
    "    df.set_index('RowNumber', inplace=True)\n",
    "    df.sort_values('Exited', ascending=False, inplace=True)\n",
    "    fpathr = os.path.join(\"default\", \"testtestreason1.csv\")\n",
    "    df.to_csv(fpathr)  \n",
    "    return y_pred\n",
    "    \n",
    "    "
   ]
  },
  {
   "cell_type": "code",
   "execution_count": 10,
   "metadata": {},
   "outputs": [],
   "source": [
    "@app.route('/defaultfile', methods = ['GET', 'POST'])\n",
    "def uploader_default_file():\n",
    "    fpath = os.path.join(\"default\", \"testtestdefault1.csv\")\n",
    "    uploadFileAndPredict(fpath)\n",
    "    with open(fpath) as file:\n",
    "        allRead = csv.reader(file, delimiter=',')\n",
    "        lineCount = 0\n",
    "        for row in allRead:\n",
    "            if lineCount==0:\n",
    "                lineCount=lineCount+1\n",
    "            else:\n",
    "                lineCount=lineCount+1\n",
    "                dropdown_list_2.append((row[1]))\n",
    "    return render_template('Result.html',  dropdown_list_2=dropdown_list_2)\n",
    "\n"
   ]
  },
  {
   "cell_type": "code",
   "execution_count": 11,
   "metadata": {},
   "outputs": [],
   "source": [
    "@app.route('/check_default/<string:dropdown_2>',methods=['POST','GET'])\n",
    "def specific_default(dropdown_2):\n",
    "    x = dropdown_2\n",
    "    yo = predict_default(x)\n",
    "    x = search_default(x)\n",
    "    rownum  = x[0]\n",
    "    ccid = x[1]\n",
    "    surname = x[2]\n",
    "    creditscore  = x[3]\n",
    "    geo = x[4]\n",
    "    gender  = x[5]\n",
    "    age  = x[6]\n",
    "    tenure = x[7]\n",
    "    balance  = x[8]\n",
    "    numpro = x[9]\n",
    "    hascard = x[10]\n",
    "    activemem = x[11]\n",
    "    salary = x[12]\n",
    "    x = x[13]\n",
    "    pred= float(x)*100\n",
    "    labels = [\"probability\",\"\"]\n",
    "    values = [pred]\n",
    "    labels_res = [\"Excess Documents Required\",\"High Service Charges/Rate of Interest\",\"Inexperienced Staff / Bad customer service\",\"Long Response Times\"]\n",
    "    values_res = [float(i)*100 for i in yo[0]]\n",
    "    x = float(x)*100\n",
    "    x = round(x,2)\n",
    "    values_res[0] = round(values_res[0],2)\n",
    "    values_res[1] = round(values_res[1],2)\n",
    "    values_res[2] = round(values_res[2],2)\n",
    "    values_res[3] = round(values_res[3],2)\n",
    "    colors = [ \"#F7464A\", \"#46BFBD\", \"#FDB45C\" , \"#ABCDEF\"]\n",
    "    return render_template('Chart.html', set=zip(values_res, labels_res, colors),\n",
    "                           firstname=x, rownum=rownum, ccid=ccid, surname=surname, \n",
    "                           creditscore=creditscore, geo=geo, gender=gender, age=age, \n",
    "                           tenure=tenure, balance=balance, numpro=numpro, hascard = hascard, activemem = activemem, \n",
    "                           salary = salary, secondname = values_res[0] , secondname1 = values_res[1] , \n",
    "                           secondname2 = values_res[2] , secondname3 = values_res[3] ,labels_res=labels_res,\n",
    "                           values_res=values_res, values=values, labels=labels)"
   ]
  },
  {
   "cell_type": "code",
   "execution_count": 12,
   "metadata": {},
   "outputs": [],
   "source": [
    "@app.route(\"/predict_default\", methods=[\"GET\",\"POST\"])\n",
    "def predict_default(z):\n",
    "    K.clear_session()\n",
    "     # output file\n",
    "    cid1 = z \n",
    "    test3 = model_default_2(cid1)\n",
    "    model2 = load_model('my_model2.h5')\n",
    "    model2._make_predict_function()\n",
    "    y_pred2 = model2.predict(test3)\n",
    "    resons=[\"Excess Documents Required\",\"High Service Charges/Rate of Interest\",\"Inexperienced Staff / Bad customer service\",\"Long Response Times\"]\n",
    "    dic=dict()\n",
    "    diff=list()\n",
    "    for j in range(len(y_pred2)):\n",
    "        dic.clear()\n",
    "    for (label, p) in zip(resons, y_pred2[j]):\n",
    "        dic[label]= p*100\n",
    "    diff.append(dic.copy())\n",
    "    j = json.dumps(diff)\n",
    "\n",
    "\n",
    "    return y_pred2"
   ]
  },
  {
   "cell_type": "code",
   "execution_count": 13,
   "metadata": {},
   "outputs": [],
   "source": [
    "def model_default_2(cid1):\n",
    "    \n",
    "    fpathr = os.path.join(\"default\", \"testtestreason1.csv\")\n",
    "    test = pd.read_csv(fpathr)\n",
    "    cid1 = int(cid1)\n",
    "\n",
    "    X_test=test.loc[test['CustomerId']==cid1].values.copy()\n",
    "    X_test=X_test[:, 3:14]\n",
    "    from sklearn.preprocessing import LabelEncoder, OneHotEncoder\n",
    "    labelencoder_X_3 = LabelEncoder()\n",
    "    X_test[:,1] = labelencoder_X_3.fit_transform(X_test[:, 1])\n",
    "    labelencoder_X_4 = LabelEncoder()\n",
    "    X_test[:,2] = labelencoder_X_4.fit_transform(X_test[:, 2])      \n",
    "    from sklearn.preprocessing import StandardScaler\n",
    "    sc = StandardScaler()\n",
    "    X_test = sc.fit_transform(X_test)\n",
    "\n",
    "    return X_test"
   ]
  },
  {
   "cell_type": "code",
   "execution_count": 14,
   "metadata": {},
   "outputs": [],
   "source": [
    "def search_default(cid):\n",
    "    fpathr = os.path.join(\"default\", \"testtestreason1.csv\")\n",
    "    with open(fpathr) as file:\n",
    "        allRead = csv.reader(file, delimiter=',')\n",
    "        for row in allRead:\n",
    "            if row[1]==cid:\n",
    "                return row"
   ]
  },
  {
   "cell_type": "code",
   "execution_count": null,
   "metadata": {},
   "outputs": [
    {
     "name": "stdout",
     "output_type": "stream",
     "text": [
      " * Serving Flask app \"__main__\" (lazy loading)\n",
      " * Environment: production\n",
      "   WARNING: This is a development server. Do not use it in a production deployment.\n",
      "   Use a production WSGI server instead.\n",
      " * Debug mode: off\n"
     ]
    },
    {
     "name": "stderr",
     "output_type": "stream",
     "text": [
      "WARNING: Logging before flag parsing goes to stderr.\n",
      "I0830 23:13:25.815975 140690768299776 _internal.py:122]  * Running on http://127.0.0.1:5000/ (Press CTRL+C to quit)\n",
      "W0830 23:13:59.177380 140689564284672 deprecation_wrapper.py:119] From /home/redwuie/miniconda3/envs/py3.7.3_env/lib/python3.7/site-packages/keras/backend/tensorflow_backend.py:95: The name tf.reset_default_graph is deprecated. Please use tf.compat.v1.reset_default_graph instead.\n",
      "\n",
      "W0830 23:13:59.178910 140689564284672 deprecation_wrapper.py:119] From /home/redwuie/miniconda3/envs/py3.7.3_env/lib/python3.7/site-packages/keras/backend/tensorflow_backend.py:98: The name tf.placeholder_with_default is deprecated. Please use tf.compat.v1.placeholder_with_default instead.\n",
      "\n",
      "W0830 23:13:59.210703 140689564284672 deprecation_wrapper.py:119] From /home/redwuie/miniconda3/envs/py3.7.3_env/lib/python3.7/site-packages/keras/backend/tensorflow_backend.py:102: The name tf.get_default_graph is deprecated. Please use tf.compat.v1.get_default_graph instead.\n",
      "\n",
      "W0830 23:13:59.226480 140689564284672 deprecation_wrapper.py:119] From /home/redwuie/miniconda3/envs/py3.7.3_env/lib/python3.7/site-packages/keras/backend/tensorflow_backend.py:517: The name tf.placeholder is deprecated. Please use tf.compat.v1.placeholder instead.\n",
      "\n",
      "W0830 23:13:59.231005 140689564284672 deprecation_wrapper.py:119] From /home/redwuie/miniconda3/envs/py3.7.3_env/lib/python3.7/site-packages/keras/backend/tensorflow_backend.py:4138: The name tf.random_uniform is deprecated. Please use tf.random.uniform instead.\n",
      "\n",
      "W0830 23:13:59.527025 140689564284672 deprecation_wrapper.py:119] From /home/redwuie/miniconda3/envs/py3.7.3_env/lib/python3.7/site-packages/keras/optimizers.py:790: The name tf.train.Optimizer is deprecated. Please use tf.compat.v1.train.Optimizer instead.\n",
      "\n",
      "W0830 23:13:59.542987 140689564284672 deprecation.py:323] From /home/redwuie/miniconda3/envs/py3.7.3_env/lib/python3.7/site-packages/tensorflow/python/ops/nn_impl.py:180: add_dispatch_support.<locals>.wrapper (from tensorflow.python.ops.array_ops) is deprecated and will be removed in a future version.\n",
      "Instructions for updating:\n",
      "Use tf.where in 2.0, which has the same broadcast rule as np.where\n",
      "I0830 23:14:00.739116 140689564284672 _internal.py:122] 127.0.0.1 - - [30/Aug/2019 23:14:00] \"\u001b[37mGET /check/15762418 HTTP/1.1\u001b[0m\" 200 -\n",
      "I0830 23:14:00.802484 140689564284672 _internal.py:122] 127.0.0.1 - - [30/Aug/2019 23:14:00] \"\u001b[36mGET /static/js/RGraph.common.core.js HTTP/1.1\u001b[0m\" 304 -\n",
      "I0830 23:14:00.812393 140688524027648 _internal.py:122] 127.0.0.1 - - [30/Aug/2019 23:14:00] \"\u001b[36mGET /static/js/Chart.min.js HTTP/1.1\u001b[0m\" 304 -\n",
      "I0830 23:14:00.814389 140689564284672 _internal.py:122] 127.0.0.1 - - [30/Aug/2019 23:14:00] \"\u001b[36mGET /static/js/RGraph.common.context.js HTTP/1.1\u001b[0m\" 304 -\n",
      "I0830 23:14:00.828799 140688029120256 _internal.py:122] 127.0.0.1 - - [30/Aug/2019 23:14:00] \"\u001b[36mGET /static/js/RGraph.common.annotate.js HTTP/1.1\u001b[0m\" 304 -\n",
      "I0830 23:14:00.831532 140689564284672 _internal.py:122] 127.0.0.1 - - [30/Aug/2019 23:14:00] \"\u001b[36mGET /static/js/RGraph.bar.js HTTP/1.1\u001b[0m\" 304 -\n",
      "I0830 23:14:00.838479 140688524027648 _internal.py:122] 127.0.0.1 - - [30/Aug/2019 23:14:00] \"\u001b[36mGET /static/js/RGraph.meter.js HTTP/1.1\u001b[0m\" 304 -\n",
      "I0830 23:14:00.833840 140688515634944 _internal.py:122] 127.0.0.1 - - [30/Aug/2019 23:14:00] \"\u001b[36mGET /static/js/RGraph.common.dynamic.js HTTP/1.1\u001b[0m\" 304 -\n",
      "I0830 23:14:07.052302 140688524027648 _internal.py:122] 127.0.0.1 - - [30/Aug/2019 23:14:07] \"\u001b[37mGET /upload HTTP/1.1\u001b[0m\" 200 -\n",
      "I0830 23:14:10.088265 140688524027648 _internal.py:122] 127.0.0.1 - - [30/Aug/2019 23:14:10] \"\u001b[37mPOST /defaultfile HTTP/1.1\u001b[0m\" 200 -\n",
      "I0830 23:14:15.804603 140688524027648 _internal.py:122] 127.0.0.1 - - [30/Aug/2019 23:14:15] \"\u001b[37mPOST /input_percent HTTP/1.1\u001b[0m\" 200 -\n"
     ]
    },
    {
     "name": "stdout",
     "output_type": "stream",
     "text": [
      "dsjfkkdsjf 77\n",
      "8\n",
      "6\n",
      "[97.547768090049, 94.04557536294764, 91.35030356561275, 86.88957484208987, 84.35073019754978, 82.4747232828558]\n",
      "['0.9754776809004901', '0.9404557536294764', '0.9135030356561274', '0.8688957484208988', '0.8435073019754978', '0.8247472328285581']\n"
     ]
    },
    {
     "name": "stderr",
     "output_type": "stream",
     "text": [
      "I0830 23:14:20.553812 140688524027648 _internal.py:122] 127.0.0.1 - - [30/Aug/2019 23:14:20] \"\u001b[37mGET /check/15701354 HTTP/1.1\u001b[0m\" 200 -\n",
      "I0830 23:14:24.704280 140688524027648 _internal.py:122] 127.0.0.1 - - [30/Aug/2019 23:14:24] \"\u001b[37mGET /upload HTTP/1.1\u001b[0m\" 200 -\n",
      "I0830 23:14:26.748569 140688524027648 _internal.py:122] 127.0.0.1 - - [30/Aug/2019 23:14:26] \"\u001b[37mPOST /defaultfile HTTP/1.1\u001b[0m\" 200 -\n",
      "E0830 23:14:43.830377 140688524027648 app.py:1780] Exception on /input_percent [POST]\n",
      "Traceback (most recent call last):\n",
      "  File \"/home/redwuie/miniconda3/envs/py3.7.3_env/lib/python3.7/site-packages/flask/app.py\", line 2311, in wsgi_app\n",
      "    response = self.full_dispatch_request()\n",
      "  File \"/home/redwuie/miniconda3/envs/py3.7.3_env/lib/python3.7/site-packages/flask/app.py\", line 1834, in full_dispatch_request\n",
      "    rv = self.handle_user_exception(e)\n",
      "  File \"/home/redwuie/miniconda3/envs/py3.7.3_env/lib/python3.7/site-packages/flask/app.py\", line 1737, in handle_user_exception\n",
      "    reraise(exc_type, exc_value, tb)\n",
      "  File \"/home/redwuie/miniconda3/envs/py3.7.3_env/lib/python3.7/site-packages/flask/_compat.py\", line 36, in reraise\n",
      "    raise value\n",
      "  File \"/home/redwuie/miniconda3/envs/py3.7.3_env/lib/python3.7/site-packages/flask/app.py\", line 1832, in full_dispatch_request\n",
      "    rv = self.dispatch_request()\n",
      "  File \"/home/redwuie/miniconda3/envs/py3.7.3_env/lib/python3.7/site-packages/flask/app.py\", line 1818, in dispatch_request\n",
      "    return self.view_functions[rule.endpoint](**req.view_args)\n",
      "  File \"<ipython-input-4-0480ee28b23b>\", line 7, in input_num\n",
      "    y = round((float(x)*line)/100)\n",
      "ValueError: could not convert string to float: \n",
      "I0830 23:14:43.833675 140688524027648 _internal.py:122] 127.0.0.1 - - [30/Aug/2019 23:14:43] \"\u001b[1m\u001b[35mPOST /input_percent HTTP/1.1\u001b[0m\" 500 -\n"
     ]
    },
    {
     "name": "stdout",
     "output_type": "stream",
     "text": [
      "dsjfkkdsjf \n"
     ]
    },
    {
     "name": "stderr",
     "output_type": "stream",
     "text": [
      "I0830 23:14:50.661262 140688524027648 _internal.py:122] 127.0.0.1 - - [30/Aug/2019 23:14:50] \"\u001b[37mPOST /input_percent HTTP/1.1\u001b[0m\" 200 -\n"
     ]
    },
    {
     "name": "stdout",
     "output_type": "stream",
     "text": [
      "dsjfkkdsjf 80\n",
      "8\n",
      "6\n",
      "[97.547768090049, 94.04557536294764, 91.35030356561275, 86.88957484208987, 84.35073019754978, 82.4747232828558]\n",
      "['0.9754776809004901', '0.9404557536294764', '0.9135030356561274', '0.8688957484208988', '0.8435073019754978', '0.8247472328285581']\n"
     ]
    },
    {
     "name": "stderr",
     "output_type": "stream",
     "text": [
      "I0830 23:14:57.476366 140687987156736 _internal.py:122] 127.0.0.1 - - [30/Aug/2019 23:14:57] \"\u001b[37mGET /check/15701354 HTTP/1.1\u001b[0m\" 200 -\n",
      "I0830 23:15:08.799875 140688020727552 _internal.py:122] 127.0.0.1 - - [30/Aug/2019 23:15:08] \"\u001b[37mGET /check/87809012 HTTP/1.1\u001b[0m\" 200 -\n"
     ]
    }
   ],
   "source": [
    "if __name__ == \"__main__\":\n",
    "    app.run()\n",
    "    "
   ]
  },
  {
   "cell_type": "code",
   "execution_count": null,
   "metadata": {},
   "outputs": [],
   "source": []
  },
  {
   "cell_type": "code",
   "execution_count": null,
   "metadata": {},
   "outputs": [],
   "source": []
  },
  {
   "cell_type": "code",
   "execution_count": null,
   "metadata": {},
   "outputs": [],
   "source": []
  },
  {
   "cell_type": "code",
   "execution_count": null,
   "metadata": {},
   "outputs": [],
   "source": []
  },
  {
   "cell_type": "code",
   "execution_count": null,
   "metadata": {},
   "outputs": [],
   "source": []
  },
  {
   "cell_type": "code",
   "execution_count": null,
   "metadata": {},
   "outputs": [],
   "source": []
  }
 ],
 "metadata": {
  "kernelspec": {
   "display_name": "Python 3",
   "language": "python",
   "name": "python3"
  },
  "language_info": {
   "codemirror_mode": {
    "name": "ipython",
    "version": 3
   },
   "file_extension": ".py",
   "mimetype": "text/x-python",
   "name": "python",
   "nbconvert_exporter": "python",
   "pygments_lexer": "ipython3",
   "version": "3.7.3"
  }
 },
 "nbformat": 4,
 "nbformat_minor": 2
}
