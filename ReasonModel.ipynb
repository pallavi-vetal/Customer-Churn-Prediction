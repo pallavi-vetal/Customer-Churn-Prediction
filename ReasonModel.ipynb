{
 "cells": [
  {
   "cell_type": "code",
   "execution_count": 97,
   "metadata": {},
   "outputs": [],
   "source": [
    "import pandas as pd\n",
    "import numpy as np\n",
    "import tensorflow as tf\n",
    "import keras\n",
    "from keras.models import load_model\n",
    "from keras import backend as K\n",
    "from werkzeug import secure_filename\n",
    "import json\n",
    "import csv\n",
    "from sklearn.model_selection import cross_val_score\n",
    "from sklearn.metrics import classification_report, confusion_matrix,accuracy_score\n",
    "from sklearn.naive_bayes import MultinomialNB\n",
    "from sklearn.preprocessing import LabelEncoder, OneHotEncoder"
   ]
  },
  {
   "cell_type": "code",
   "execution_count": 75,
   "metadata": {},
   "outputs": [],
   "source": [
    "dataset = pd.read_csv('data.csv')\n",
    "data_re=dataset[dataset['Exited']==1]\n",
    "data_re.set_index('RowNumber',inplace=True)\n",
    "dataset = data_re"
   ]
  },
  {
   "cell_type": "code",
   "execution_count": 76,
   "metadata": {},
   "outputs": [
    {
     "name": "stdout",
     "output_type": "stream",
     "text": [
      "<class 'pandas.core.frame.DataFrame'>\n",
      "Int64Index: 2037 entries, 1 to 9999\n",
      "Data columns (total 14 columns):\n",
      "CustomerId                    2037 non-null int64\n",
      "Surname                       2037 non-null object\n",
      "CreditScore                   2037 non-null int64\n",
      "Geography                     2037 non-null object\n",
      "Gender                        2037 non-null object\n",
      "Age                           2037 non-null int64\n",
      "Tenure                        2037 non-null int64\n",
      "Balance                       2037 non-null float64\n",
      "NumOfProducts                 2037 non-null int64\n",
      "HasCrCard                     2037 non-null int64\n",
      "IsActiveMember                2037 non-null int64\n",
      "EstimatedSalary               2037 non-null float64\n",
      "Exited                        2037 non-null int64\n",
      "Reason for exiting company    2037 non-null object\n",
      "dtypes: float64(2), int64(8), object(4)\n",
      "memory usage: 238.7+ KB\n"
     ]
    }
   ],
   "source": [
    "dataset.info()"
   ]
  },
  {
   "cell_type": "code",
   "execution_count": 77,
   "metadata": {},
   "outputs": [
    {
     "name": "stdout",
     "output_type": "stream",
     "text": [
      "False\n"
     ]
    }
   ],
   "source": [
    "print(dataset.isnull().values.any())"
   ]
  },
  {
   "cell_type": "code",
   "execution_count": 78,
   "metadata": {},
   "outputs": [],
   "source": [
    "dataset['Geography'] = dataset['Geography'].astype('category')\n",
    "dataset['Gender'] = dataset['Gender'].astype('category')\n",
    "dataset['EstimatedSalary'] = dataset['EstimatedSalary'].astype('float32')\n",
    "dataset['Balance'] = dataset['Balance'].astype('float32')\n",
    "dataset['Reason for exiting company'] = dataset['Reason for exiting company'].astype('category')\n",
    "\n"
   ]
  },
  {
   "cell_type": "code",
   "execution_count": 79,
   "metadata": {},
   "outputs": [
    {
     "name": "stdout",
     "output_type": "stream",
     "text": [
      "<class 'pandas.core.frame.DataFrame'>\n",
      "Int64Index: 2037 entries, 1 to 9999\n",
      "Data columns (total 14 columns):\n",
      "CustomerId                    2037 non-null int64\n",
      "Surname                       2037 non-null object\n",
      "CreditScore                   2037 non-null int64\n",
      "Geography                     2037 non-null category\n",
      "Gender                        2037 non-null category\n",
      "Age                           2037 non-null int64\n",
      "Tenure                        2037 non-null int64\n",
      "Balance                       2037 non-null float32\n",
      "NumOfProducts                 2037 non-null int64\n",
      "HasCrCard                     2037 non-null int64\n",
      "IsActiveMember                2037 non-null int64\n",
      "EstimatedSalary               2037 non-null float32\n",
      "Exited                        2037 non-null int64\n",
      "Reason for exiting company    2037 non-null category\n",
      "dtypes: category(3), float32(2), int64(8), object(1)\n",
      "memory usage: 181.4+ KB\n"
     ]
    }
   ],
   "source": [
    "dataset.info()"
   ]
  },
  {
   "cell_type": "code",
   "execution_count": 80,
   "metadata": {},
   "outputs": [
    {
     "name": "stdout",
     "output_type": "stream",
     "text": [
      "before converting            CustomerId   Surname  CreditScore Geography  Gender  Age  Tenure  \\\n",
      "RowNumber                                                                     \n",
      "1            15634602  Hargrave          619    France  Female   42       2   \n",
      "3            15619304      Onio          502    France  Female   42       8   \n",
      "6            15574012       Chu          645     Spain    Male   44       8   \n",
      "8            15656148    Obinna          376   Germany  Female   29       4   \n",
      "17           15737452     Romeo          653   Germany    Male   58       1   \n",
      "\n",
      "                 Balance  NumOfProducts  HasCrCard  IsActiveMember  \\\n",
      "RowNumber                                                            \n",
      "1               0.000000              1          1               1   \n",
      "3          159660.796875              3          1               0   \n",
      "6          113755.781250              2          1               0   \n",
      "8          115046.742188              4          1               0   \n",
      "17         132602.875000              1          1               0   \n",
      "\n",
      "           EstimatedSalary  Exited  \\\n",
      "RowNumber                            \n",
      "1            101348.882812       1   \n",
      "3            113931.570312       1   \n",
      "6            149756.703125       1   \n",
      "8            119346.882812       1   \n",
      "17             5097.669922       1   \n",
      "\n",
      "                            Reason for exiting company  \n",
      "RowNumber                                               \n",
      "1                High Service Charges/Rate of Interest  \n",
      "3                                  Long Response Times  \n",
      "6                High Service Charges/Rate of Interest  \n",
      "8          Inexperienced Staff / Bad customer service   \n",
      "17                                 Long Response Times  \n",
      "************************************\n",
      "after converting            CustomerId      Surname  CreditScore  Geography  Gender  Age  \\\n",
      "RowNumber                                                                 \n",
      "9982         15672754     Burbidge          498          1       1   42   \n",
      "9983         15768163      Griffin          655          1       0   46   \n",
      "9992         15769959  Ajuluchukwu          597          0       0   53   \n",
      "9998         15584532          Liu          709          0       0   36   \n",
      "9999         15682355    Sabbatini          772          1       1   42   \n",
      "\n",
      "           Tenure        Balance  NumOfProducts  HasCrCard  IsActiveMember  \\\n",
      "RowNumber                                                                    \n",
      "9982            3  152039.703125              1          1               1   \n",
      "9983            7  137145.125000              1          1               0   \n",
      "9992            4   88381.210938              1          1               0   \n",
      "9998            7       0.000000              1          0               1   \n",
      "9999            3   75075.312500              2          1               0   \n",
      "\n",
      "           EstimatedSalary  Exited  Reason for exiting company  \n",
      "RowNumber                                                       \n",
      "9982          53445.171875       1                           1  \n",
      "9983         115146.398438       1                           2  \n",
      "9992          69384.710938       1                           3  \n",
      "9998          42085.578125       1                           2  \n",
      "9999          92888.523438       1                           0  \n"
     ]
    }
   ],
   "source": [
    "from scipy.stats import kurtosis, skew\n",
    "print('before converting',dataset.head())\n",
    "cat_columns = dataset.select_dtypes(['category']).columns\n",
    "dataset[cat_columns] = dataset[cat_columns].apply(lambda x: x.cat.codes)\n",
    "print('************************************')\n",
    "print('after converting',dataset.tail())\n"
   ]
  },
  {
   "cell_type": "code",
   "execution_count": 81,
   "metadata": {},
   "outputs": [],
   "source": [
    "X = dataset.iloc[:, 3:13].values\n",
    "Y= dataset.iloc[:, 13].values\n",
    "# Splitting the dataset into the Training set and Test set\n",
    "from sklearn.model_selection import train_test_split\n",
    "X_train, X_test, y_train, y_test = train_test_split(X, Y, test_size = 0.25, random_state = 0,stratify=Y)\n"
   ]
  },
  {
   "cell_type": "code",
   "execution_count": 82,
   "metadata": {},
   "outputs": [
    {
     "name": "stdout",
     "output_type": "stream",
     "text": [
      "X: [[0.00000000e+00 0.00000000e+00 3.90000000e+01 ... 0.00000000e+00\n",
      "  1.76614859e+05 1.00000000e+00]\n",
      " [2.00000000e+00 0.00000000e+00 5.60000000e+01 ... 0.00000000e+00\n",
      "  1.40991234e+05 1.00000000e+00]\n",
      " [0.00000000e+00 1.00000000e+00 4.90000000e+01 ... 1.00000000e+00\n",
      "  1.00075102e+05 1.00000000e+00]\n",
      " ...\n",
      " [1.00000000e+00 0.00000000e+00 4.20000000e+01 ... 0.00000000e+00\n",
      "  1.03516078e+05 1.00000000e+00]\n",
      " [0.00000000e+00 0.00000000e+00 3.90000000e+01 ... 0.00000000e+00\n",
      "  1.15287992e+05 1.00000000e+00]\n",
      " [0.00000000e+00 0.00000000e+00 5.50000000e+01 ... 1.00000000e+00\n",
      "  1.96794109e+05 1.00000000e+00]]\n",
      "Number of training records 1527\n",
      "**************************************************\n",
      "X_test: [[0.00000000e+00 0.00000000e+00 5.50000000e+01 ... 1.00000000e+00\n",
      "  6.75398516e+04 1.00000000e+00]\n",
      " [1.00000000e+00 0.00000000e+00 4.70000000e+01 ... 1.00000000e+00\n",
      "  4.77771484e+04 1.00000000e+00]\n",
      " [0.00000000e+00 1.00000000e+00 3.40000000e+01 ... 1.00000000e+00\n",
      "  2.57441309e+04 1.00000000e+00]\n",
      " ...\n",
      " [1.00000000e+00 1.00000000e+00 5.00000000e+01 ... 1.00000000e+00\n",
      "  1.00720023e+05 1.00000000e+00]\n",
      " [2.00000000e+00 0.00000000e+00 4.60000000e+01 ... 0.00000000e+00\n",
      "  1.56425562e+05 1.00000000e+00]\n",
      " [0.00000000e+00 0.00000000e+00 5.40000000e+01 ... 1.00000000e+00\n",
      "  7.01962266e+04 1.00000000e+00]]\n",
      "Number of testing records 510\n"
     ]
    }
   ],
   "source": [
    "print(\"X:\",X_train)\n",
    "print(\"Number of training records\",len(X_train))\n",
    "print(\"**************************************************\")\n",
    "print(\"X_test:\",X_test)\n",
    "print(\"Number of testing records\",len(X_test))"
   ]
  },
  {
   "cell_type": "code",
   "execution_count": 83,
   "metadata": {},
   "outputs": [
    {
     "data": {
      "text/plain": [
       "0.25882352941176473"
      ]
     },
     "execution_count": 83,
     "metadata": {},
     "output_type": "execute_result"
    }
   ],
   "source": [
    "clf.fit(X_train, y_train)\n",
    "y_pred = clf.predict(X_test)\n",
    "accuracy_score(y_test, y_pred)"
   ]
  },
  {
   "cell_type": "code",
   "execution_count": 84,
   "metadata": {},
   "outputs": [
    {
     "name": "stdout",
     "output_type": "stream",
     "text": [
      "0.24509803921568626\n",
      "[3 2 3 2 0 3 0 3 2 3 2 2 3 2 0 3 2 3 0 3 0 2 3 3 3 0 0 0 0 3 3 2 3 2 2 3 3\n",
      " 0 0 3 3 3 3 3 0 3 0 0 3 2 3 3 0 2 0 0 2 0 2 3 1 2 3 3 2 3 2 0 0 0 3 0 2 2\n",
      " 3 2 3 0 3 3 3 3 3 3 2 2 2 0 2 2 2 0 3 0 2 3 3 0 1 0 3 2 0 2 3 2 2 3 3 0 0\n",
      " 3 0 3 3 2 3 3 2 0 0 2 3 2 3 0 1 3 2 3 3 3 3 0 0 2 2 2 2 3 3 0 3 2 3 0 0 3\n",
      " 3 2 3 0 2 0 0 3 0 1 2 0 3 0 3 3 2 3 0 3 3 0 3 3 3 3 0 0 0 2 3 3 2 2 0 0 0\n",
      " 0 2 0 3 0 3 2 3 0 2 2 3 2 3 3 0 0 3 0 0 3 3 2 3 0 0 0 2 3 2 3 3 0 3 2 3 0\n",
      " 3 0 0 3 2 2 3 2 3 3 0 2 0 3 0 3 0 3 0 3 0 3 0 3 0 2 2 0 0 3 3 3 3 2 3 2 3\n",
      " 0 2 3 3 0 3 3 3 3 3 2 0 0 3 2 0 3 0 2 3 3 0 0 2 3 3 0 2 0 2 2 3 2 3 2 2 0\n",
      " 0 3 2 0 3 0 0 3 3 2 2 3 3 2 0 3 3 0 2 3 2 2 3 2 0 3 0 2 3 2 2 0 0 0 3 3 2\n",
      " 2 2 2 1 3 0 3 2 0 3 2 3 2 2 3 3 3 3 3 1 0 3 0 0 3 3 3 3 2 3 3 0 1 2 3 3 3\n",
      " 3 3 0 2 0 3 2 3 3 3 3 0 0 3 0 0 3 3 3 0 3 0 3 3 0 2 0 3 0 1 3 3 3 0 2 0 3\n",
      " 0 3 2 3 1 0 3 0 0 3 0 0 3 0 3 0 0 3 2 3 3 3 3 3 2 0 3 3 2 2 2 0 2 3 3 2 2\n",
      " 3 2 3 0 0 3 3 2 2 3 0 3 3 2 3 3 2 3 0 2 2 2 0 3 2 2 0 2 0 2 2 1 3 0 2 2 3\n",
      " 3 0 2 0 0 3 0 3 3 2 3 0 3 2 0 2 0 1 3 3 0 2 3 3 3 0 0 2 2]\n",
      "[2 0 1 3 1 1 1 1 3 1 2 1 1 2 1 1 1 1 0 0 3 2 1 1 2 2 2 2 1 0 3 3 3 0 2 3 2\n",
      " 0 3 2 2 0 1 2 0 3 2 3 0 2 0 0 0 2 1 3 3 1 1 3 0 2 2 2 1 3 1 3 0 3 3 2 3 2\n",
      " 1 0 0 3 2 0 2 1 1 1 0 3 1 1 2 3 0 1 0 0 1 2 2 3 2 3 1 1 1 1 0 3 3 0 2 0 2\n",
      " 1 1 1 3 3 3 1 1 2 2 0 1 0 2 0 2 3 2 2 2 3 2 1 2 3 0 2 2 1 1 3 1 2 2 0 1 3\n",
      " 2 3 3 3 2 3 0 3 0 2 0 0 1 2 3 3 3 3 2 0 2 0 0 1 3 3 1 3 0 3 3 3 0 1 3 0 3\n",
      " 2 0 0 3 1 0 0 2 0 3 0 0 2 0 0 1 1 1 2 3 1 2 2 3 3 2 1 0 1 2 2 3 1 0 0 0 1\n",
      " 3 3 0 3 2 2 2 1 2 1 1 0 1 3 2 0 1 1 1 2 3 2 3 0 2 1 3 1 2 3 2 3 2 1 3 0 2\n",
      " 2 3 0 0 1 2 3 2 1 3 3 3 2 3 3 0 3 0 0 1 1 0 1 0 1 1 1 0 1 0 1 0 3 3 1 3 0\n",
      " 1 1 0 3 2 1 0 2 2 2 1 0 2 3 2 2 1 1 0 0 0 2 2 3 2 1 2 1 3 1 3 2 3 3 2 3 1\n",
      " 3 3 2 0 3 1 3 0 0 3 3 0 0 0 3 1 2 2 0 0 0 0 3 0 1 3 1 1 1 2 1 0 3 2 1 1 0\n",
      " 0 2 2 0 0 1 3 2 1 1 0 0 3 3 2 2 2 1 3 2 3 1 2 0 0 2 1 1 0 3 3 3 3 0 2 2 0\n",
      " 2 0 0 2 2 3 0 2 2 0 1 1 2 0 0 0 3 3 3 2 2 2 0 3 0 0 3 3 2 1 3 1 3 1 3 0 3\n",
      " 2 3 3 1 3 3 2 3 1 1 2 1 0 0 2 3 1 3 0 0 3 1 3 1 2 2 3 3 2 3 1 3 2 0 3 0 0\n",
      " 2 2 3 1 1 2 1 3 1 0 0 2 0 2 3 2 3 0 0 0 3 0 0 2 0 1 1 0 0]\n"
     ]
    }
   ],
   "source": [
    "from sklearn.naive_bayes import GaussianNB\n",
    "gnb = GaussianNB()\n",
    "gnb.fit(X_train, y_train)\n",
    "y_pred = gnb.predict(X_test)\n",
    "print(accuracy_score(y_test, y_pred))\n",
    "print(y_pred)\n",
    "print(y_test)"
   ]
  },
  {
   "cell_type": "code",
   "execution_count": 85,
   "metadata": {},
   "outputs": [
    {
     "name": "stdout",
     "output_type": "stream",
     "text": [
      "0.25882352941176473\n",
      "[0 2 2 2 2 0 0 2 2 2 2 2 2 2 0 0 0 0 0 2 0 2 0 2 2 0 2 0 0 0 0 2 0 2 2 2 0\n",
      " 2 0 2 2 0 0 0 0 0 2 2 2 2 0 0 0 2 0 2 2 0 2 0 0 0 0 2 2 2 2 0 0 0 0 0 2 2\n",
      " 0 2 2 2 0 2 0 2 0 2 0 2 2 0 0 2 2 2 0 0 2 0 2 0 0 0 0 0 0 2 0 2 2 0 2 0 0\n",
      " 0 2 0 0 2 0 2 0 0 0 0 2 2 2 2 0 2 0 0 2 2 0 0 0 2 2 2 2 0 0 2 0 2 2 0 0 0\n",
      " 2 2 0 0 2 0 2 0 0 0 2 0 2 2 0 2 2 0 0 0 2 2 2 0 0 2 2 2 2 2 0 0 2 2 0 2 2\n",
      " 2 2 0 2 2 0 2 0 0 0 2 2 0 2 0 2 0 0 2 2 0 3 0 2 2 0 2 2 0 0 0 2 0 2 2 0 2\n",
      " 2 0 2 2 2 2 2 2 2 0 0 2 0 2 0 2 2 2 2 0 0 2 2 0 0 0 2 2 0 0 0 2 0 0 0 2 0\n",
      " 2 2 0 0 0 0 2 0 0 0 2 2 2 0 2 0 2 0 2 0 2 2 2 2 0 0 0 2 0 0 2 0 0 2 2 2 0\n",
      " 2 0 0 2 0 0 0 2 0 2 0 0 0 2 0 2 0 2 0 0 2 0 0 2 2 0 0 0 2 2 2 0 0 0 2 0 2\n",
      " 0 0 2 0 2 0 0 2 0 0 0 0 2 2 0 2 2 2 2 0 0 0 0 0 0 2 0 0 2 0 0 0 2 2 0 2 0\n",
      " 2 2 2 2 2 0 0 0 0 0 0 0 0 0 2 0 2 0 2 0 0 0 0 2 0 0 0 2 2 2 2 2 2 0 2 2 0\n",
      " 2 0 2 2 2 0 2 2 2 0 0 2 2 0 2 0 2 2 2 0 0 2 0 2 2 0 2 2 0 0 2 0 0 0 0 0 2\n",
      " 2 2 0 2 0 2 0 2 2 2 0 0 0 2 0 2 2 0 2 2 2 2 0 2 0 2 0 2 2 2 2 2 0 0 2 0 2\n",
      " 0 0 2 2 0 2 0 2 2 0 0 2 0 2 2 2 2 2 2 2 2 2 0 2 0 2 2 0 2]\n",
      "[2 0 1 3 1 1 1 1 3 1 2 1 1 2 1 1 1 1 0 0 3 2 1 1 2 2 2 2 1 0 3 3 3 0 2 3 2\n",
      " 0 3 2 2 0 1 2 0 3 2 3 0 2 0 0 0 2 1 3 3 1 1 3 0 2 2 2 1 3 1 3 0 3 3 2 3 2\n",
      " 1 0 0 3 2 0 2 1 1 1 0 3 1 1 2 3 0 1 0 0 1 2 2 3 2 3 1 1 1 1 0 3 3 0 2 0 2\n",
      " 1 1 1 3 3 3 1 1 2 2 0 1 0 2 0 2 3 2 2 2 3 2 1 2 3 0 2 2 1 1 3 1 2 2 0 1 3\n",
      " 2 3 3 3 2 3 0 3 0 2 0 0 1 2 3 3 3 3 2 0 2 0 0 1 3 3 1 3 0 3 3 3 0 1 3 0 3\n",
      " 2 0 0 3 1 0 0 2 0 3 0 0 2 0 0 1 1 1 2 3 1 2 2 3 3 2 1 0 1 2 2 3 1 0 0 0 1\n",
      " 3 3 0 3 2 2 2 1 2 1 1 0 1 3 2 0 1 1 1 2 3 2 3 0 2 1 3 1 2 3 2 3 2 1 3 0 2\n",
      " 2 3 0 0 1 2 3 2 1 3 3 3 2 3 3 0 3 0 0 1 1 0 1 0 1 1 1 0 1 0 1 0 3 3 1 3 0\n",
      " 1 1 0 3 2 1 0 2 2 2 1 0 2 3 2 2 1 1 0 0 0 2 2 3 2 1 2 1 3 1 3 2 3 3 2 3 1\n",
      " 3 3 2 0 3 1 3 0 0 3 3 0 0 0 3 1 2 2 0 0 0 0 3 0 1 3 1 1 1 2 1 0 3 2 1 1 0\n",
      " 0 2 2 0 0 1 3 2 1 1 0 0 3 3 2 2 2 1 3 2 3 1 2 0 0 2 1 1 0 3 3 3 3 0 2 2 0\n",
      " 2 0 0 2 2 3 0 2 2 0 1 1 2 0 0 0 3 3 3 2 2 2 0 3 0 0 3 3 2 1 3 1 3 1 3 0 3\n",
      " 2 3 3 1 3 3 2 3 1 1 2 1 0 0 2 3 1 3 0 0 3 1 3 1 2 2 3 3 2 3 1 3 2 0 3 0 0\n",
      " 2 2 3 1 1 2 1 3 1 0 0 2 0 2 3 2 3 0 0 0 3 0 0 2 0 1 1 0 0]\n"
     ]
    }
   ],
   "source": [
    "from sklearn.naive_bayes import ComplementNB\n",
    "clf = ComplementNB()\n",
    "clf.fit(X_train, y_train)\n",
    "y_pred = clf.predict(X_test)\n",
    "print(accuracy_score(y_test, y_pred))\n",
    "print(y_pred)\n",
    "print(y_test)"
   ]
  },
  {
   "cell_type": "code",
   "execution_count": 177,
   "metadata": {},
   "outputs": [],
   "source": [
    "dataset = pd.read_csv('data.csv')\n",
    "data_re=dataset[dataset['Exited']==1]\n",
    "data_re.set_index('RowNumber',inplace=True)\n",
    "dataset = data_re"
   ]
  },
  {
   "cell_type": "code",
   "execution_count": 180,
   "metadata": {},
   "outputs": [
    {
     "data": {
      "text/plain": [
       "'High Service Charges/Rate of Interest'"
      ]
     },
     "execution_count": 180,
     "metadata": {},
     "output_type": "execute_result"
    }
   ],
   "source": [
    "X = dataset.iloc[:, 3:13].values\n",
    "y = dataset.iloc[:, 13].values"
   ]
  },
  {
   "cell_type": "code",
   "execution_count": 181,
   "metadata": {},
   "outputs": [
    {
     "name": "stdout",
     "output_type": "stream",
     "text": [
      "[0. 1. 0. 0.]\n",
      "(2037, 4)\n"
     ]
    },
    {
     "name": "stderr",
     "output_type": "stream",
     "text": [
      "/home/redwuie/miniconda3/envs/py3.7.3_env/lib/python3.7/site-packages/sklearn/preprocessing/_encoders.py:415: FutureWarning: The handling of integer data will change in version 0.22. Currently, the categories are determined based on the range [0, max(values)], while in the future they will be determined based on the unique values.\n",
      "If you want the future behaviour and silence this warning, you can specify \"categories='auto'\".\n",
      "In case you used a LabelEncoder before this OneHotEncoder to convert the categories to integers, then you can now use the OneHotEncoder directly.\n",
      "  warnings.warn(msg, FutureWarning)\n"
     ]
    }
   ],
   "source": [
    "label_encoder = LabelEncoder()\n",
    "y = label_encoder.fit_transform(y)\n",
    "onehot_encoder = OneHotEncoder(sparse=False)\n",
    "y = y.reshape(len(y), 1)\n",
    "Y = onehot_encoder.fit_transform(y)\n",
    "print(Y[2])\n",
    "print(Y.shape)"
   ]
  },
  {
   "cell_type": "code",
   "execution_count": 182,
   "metadata": {},
   "outputs": [],
   "source": [
    "labelencoder_X_1 = LabelEncoder()\n",
    "X[:, 1] = labelencoder_X_1.fit_transform(X[:, 1])\n",
    "labelencoder_X_2 = LabelEncoder()\n",
    "X[:, 2] = labelencoder_X_2.fit_transform(X[:, 2])\n"
   ]
  },
  {
   "cell_type": "code",
   "execution_count": 183,
   "metadata": {},
   "outputs": [],
   "source": [
    "\n",
    "from sklearn.model_selection import train_test_split\n",
    "X_train, X_test, y_train, y_test = train_test_split(X, Y, test_size = 0.25, random_state = 0,stratify=Y)\n"
   ]
  },
  {
   "cell_type": "code",
   "execution_count": 184,
   "metadata": {},
   "outputs": [],
   "source": [
    "from sklearn.preprocessing import StandardScaler\n",
    "sc = StandardScaler()\n",
    "X_train = sc.fit_transform(X_train)\n",
    "X_test = sc.transform(X_test)"
   ]
  },
  {
   "cell_type": "code",
   "execution_count": 199,
   "metadata": {},
   "outputs": [
    {
     "name": "stderr",
     "output_type": "stream",
     "text": [
      "/home/redwuie/miniconda3/envs/py3.7.3_env/lib/python3.7/site-packages/ipykernel_launcher.py:7: UserWarning: Update your `Dense` call to the Keras 2 API: `Dense(activation=\"relu\", input_dim=10, units=6, kernel_initializer=\"uniform\")`\n",
      "  import sys\n",
      "/home/redwuie/miniconda3/envs/py3.7.3_env/lib/python3.7/site-packages/ipykernel_launcher.py:8: UserWarning: Update your `Dense` call to the Keras 2 API: `Dense(activation=\"sigmoid\", units=6, kernel_initializer=\"uniform\")`\n",
      "  \n",
      "/home/redwuie/miniconda3/envs/py3.7.3_env/lib/python3.7/site-packages/ipykernel_launcher.py:9: UserWarning: Update your `Dense` call to the Keras 2 API: `Dense(activation=\"sigmoid\", units=6, kernel_initializer=\"uniform\")`\n",
      "  if __name__ == '__main__':\n",
      "/home/redwuie/miniconda3/envs/py3.7.3_env/lib/python3.7/site-packages/ipykernel_launcher.py:10: UserWarning: Update your `Dense` call to the Keras 2 API: `Dense(activation=\"sigmoid\", units=4, kernel_initializer=\"uniform\")`\n",
      "  # Remove the CWD from sys.path while we load stuff.\n"
     ]
    }
   ],
   "source": [
    "from keras.models import load_model\n",
    "\n",
    "from keras.models import Sequential\n",
    "from keras.layers import Dense\n",
    "\n",
    "classifier = Sequential() \n",
    "classifier.add(Dense(output_dim = 6, init = 'uniform', activation = 'relu', input_dim = 10))\n",
    "classifier.add(Dense(output_dim = 6, init = 'uniform', activation = 'sigmoid'))\n",
    "classifier.add(Dense(output_dim = 6, init = 'uniform', activation = 'sigmoid'))\n",
    "classifier.add(Dense(output_dim = 4, init = 'uniform', activation = 'sigmoid'))\n",
    "classifier.compile(optimizer = 'adam', loss = 'binary_crossentropy')\n",
    "\n"
   ]
  },
  {
   "cell_type": "code",
   "execution_count": 200,
   "metadata": {},
   "outputs": [
    {
     "name": "stderr",
     "output_type": "stream",
     "text": [
      "/home/redwuie/miniconda3/envs/py3.7.3_env/lib/python3.7/site-packages/ipykernel_launcher.py:1: UserWarning: The `nb_epoch` argument in `fit` has been renamed `epochs`.\n",
      "  \"\"\"Entry point for launching an IPython kernel.\n"
     ]
    },
    {
     "name": "stdout",
     "output_type": "stream",
     "text": [
      "Epoch 1/50\n",
      "1527/1527 [==============================] - 3s 2ms/step - loss: 0.6393\n",
      "Epoch 2/50\n",
      "1527/1527 [==============================] - 0s 287us/step - loss: 0.5718\n",
      "Epoch 3/50\n",
      "1527/1527 [==============================] - 0s 327us/step - loss: 0.5628\n",
      "Epoch 4/50\n",
      "1527/1527 [==============================] - 0s 301us/step - loss: 0.5625\n",
      "Epoch 5/50\n",
      "1527/1527 [==============================] - 0s 289us/step - loss: 0.5624\n",
      "Epoch 6/50\n",
      "1527/1527 [==============================] - 0s 275us/step - loss: 0.5625\n",
      "Epoch 7/50\n",
      "1527/1527 [==============================] - 0s 282us/step - loss: 0.5625\n",
      "Epoch 8/50\n",
      "1527/1527 [==============================] - 0s 301us/step - loss: 0.5624\n",
      "Epoch 9/50\n",
      "1527/1527 [==============================] - 0s 282us/step - loss: 0.5625\n",
      "Epoch 10/50\n",
      "1527/1527 [==============================] - 0s 294us/step - loss: 0.5625\n",
      "Epoch 11/50\n",
      "1527/1527 [==============================] - 0s 273us/step - loss: 0.5624\n",
      "Epoch 12/50\n",
      "1527/1527 [==============================] - 0s 283us/step - loss: 0.5625\n",
      "Epoch 13/50\n",
      "1527/1527 [==============================] - 0s 306us/step - loss: 0.5624\n",
      "Epoch 14/50\n",
      "1527/1527 [==============================] - 1s 390us/step - loss: 0.5624\n",
      "Epoch 15/50\n",
      "1527/1527 [==============================] - 1s 382us/step - loss: 0.5625\n",
      "Epoch 16/50\n",
      "1527/1527 [==============================] - 1s 467us/step - loss: 0.5624\n",
      "Epoch 17/50\n",
      "1527/1527 [==============================] - 1s 474us/step - loss: 0.5625\n",
      "Epoch 18/50\n",
      "1527/1527 [==============================] - 0s 302us/step - loss: 0.5624\n",
      "Epoch 19/50\n",
      "1527/1527 [==============================] - 0s 279us/step - loss: 0.5624\n",
      "Epoch 20/50\n",
      "1527/1527 [==============================] - 1s 341us/step - loss: 0.5625\n",
      "Epoch 21/50\n",
      "1527/1527 [==============================] - 0s 272us/step - loss: 0.5625\n",
      "Epoch 22/50\n",
      "1527/1527 [==============================] - 1s 405us/step - loss: 0.5624\n",
      "Epoch 23/50\n",
      "1527/1527 [==============================] - 1s 448us/step - loss: 0.5625\n",
      "Epoch 24/50\n",
      "1527/1527 [==============================] - 1s 378us/step - loss: 0.5625\n",
      "Epoch 25/50\n",
      "1527/1527 [==============================] - 1s 393us/step - loss: 0.5625\n",
      "Epoch 26/50\n",
      "1527/1527 [==============================] - 0s 276us/step - loss: 0.5624\n",
      "Epoch 27/50\n",
      "1527/1527 [==============================] - 1s 328us/step - loss: 0.5626\n",
      "Epoch 28/50\n",
      "1527/1527 [==============================] - 0s 297us/step - loss: 0.5625\n",
      "Epoch 29/50\n",
      "1527/1527 [==============================] - 0s 297us/step - loss: 0.5626\n",
      "Epoch 30/50\n",
      "1527/1527 [==============================] - 1s 367us/step - loss: 0.5625\n",
      "Epoch 31/50\n",
      "1527/1527 [==============================] - 1s 371us/step - loss: 0.5624\n",
      "Epoch 32/50\n",
      "1527/1527 [==============================] - 0s 320us/step - loss: 0.5624\n",
      "Epoch 33/50\n",
      "1527/1527 [==============================] - 1s 328us/step - loss: 0.5625\n",
      "Epoch 34/50\n",
      "1527/1527 [==============================] - 0s 325us/step - loss: 0.5624\n",
      "Epoch 35/50\n",
      "1527/1527 [==============================] - 0s 295us/step - loss: 0.5624\n",
      "Epoch 36/50\n",
      "1527/1527 [==============================] - 1s 343us/step - loss: 0.5624\n",
      "Epoch 37/50\n",
      "1527/1527 [==============================] - 0s 326us/step - loss: 0.5624\n",
      "Epoch 38/50\n",
      "1527/1527 [==============================] - 0s 299us/step - loss: 0.5625\n",
      "Epoch 39/50\n",
      "1527/1527 [==============================] - 0s 305us/step - loss: 0.5625\n",
      "Epoch 40/50\n",
      "1527/1527 [==============================] - 0s 315us/step - loss: 0.5624\n",
      "Epoch 41/50\n",
      "1527/1527 [==============================] - 0s 293us/step - loss: 0.5624\n",
      "Epoch 42/50\n",
      "1527/1527 [==============================] - 0s 264us/step - loss: 0.5623\n",
      "Epoch 43/50\n",
      "1527/1527 [==============================] - 1s 338us/step - loss: 0.5625\n",
      "Epoch 44/50\n",
      "1527/1527 [==============================] - 0s 312us/step - loss: 0.5625\n",
      "Epoch 45/50\n",
      "1527/1527 [==============================] - 1s 335us/step - loss: 0.5625\n",
      "Epoch 46/50\n",
      "1527/1527 [==============================] - 1s 355us/step - loss: 0.5624\n",
      "Epoch 47/50\n",
      "1527/1527 [==============================] - 0s 316us/step - loss: 0.5623\n",
      "Epoch 48/50\n",
      "1527/1527 [==============================] - 0s 263us/step - loss: 0.5625\n",
      "Epoch 49/50\n",
      "1527/1527 [==============================] - 0s 323us/step - loss: 0.5624\n",
      "Epoch 50/50\n",
      "1527/1527 [==============================] - 1s 333us/step - loss: 0.5625\n"
     ]
    },
    {
     "data": {
      "text/plain": [
       "<keras.callbacks.History at 0x7f28d3cd3240>"
      ]
     },
     "execution_count": 200,
     "metadata": {},
     "output_type": "execute_result"
    }
   ],
   "source": [
    "classifier.fit(X_train, y_train,batch_size=10,nb_epoch=50)"
   ]
  },
  {
   "cell_type": "code",
   "execution_count": null,
   "metadata": {},
   "outputs": [],
   "source": []
  }
 ],
 "metadata": {
  "kernelspec": {
   "display_name": "Python 3",
   "language": "python",
   "name": "python3"
  },
  "language_info": {
   "codemirror_mode": {
    "name": "ipython",
    "version": 3
   },
   "file_extension": ".py",
   "mimetype": "text/x-python",
   "name": "python",
   "nbconvert_exporter": "python",
   "pygments_lexer": "ipython3",
   "version": "3.7.3"
  }
 },
 "nbformat": 4,
 "nbformat_minor": 2
}
