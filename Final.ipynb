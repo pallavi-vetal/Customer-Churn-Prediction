{
 "cells": [
  {
   "cell_type": "code",
   "execution_count": 14,
   "metadata": {},
   "outputs": [],
   "source": [
    "import pandas as pd\n",
    "import numpy as np\n",
    "import tensorflow as tf\n",
    "import keras\n",
    "from keras.models import load_model\n",
    "from keras import backend as K\n",
    "from werkzeug import secure_filename\n",
    "import json\n",
    "import csv\n",
    "from sklearn.model_selection import cross_val_score\n",
    "from sklearn.metrics import classification_report, confusion_matrix,accuracy_score"
   ]
  },
  {
   "cell_type": "code",
   "execution_count": 15,
   "metadata": {},
   "outputs": [
    {
     "data": {
      "text/plain": [
       "Index(['RowNumber', 'CustomerId', 'Surname', 'CreditScore', 'Geography',\n",
       "       'Gender', 'Age', 'Tenure', 'Balance', 'NumOfProducts', 'HasCrCard',\n",
       "       'IsActiveMember', 'EstimatedSalary', 'Exited',\n",
       "       'Reason for exiting company'],\n",
       "      dtype='object')"
      ]
     },
     "execution_count": 15,
     "metadata": {},
     "output_type": "execute_result"
    }
   ],
   "source": [
    "dataset = pd.read_csv('data.csv')\n",
    "data_re=dataset[dataset['Exited']==1]\n",
    "data_re.set_index('RowNumber',inplace=True)\n",
    "dataset.columns"
   ]
  },
  {
   "cell_type": "code",
   "execution_count": 16,
   "metadata": {},
   "outputs": [
    {
     "name": "stdout",
     "output_type": "stream",
     "text": [
      "False\n",
      "<class 'pandas.core.frame.DataFrame'>\n",
      "Int64Index: 10000 entries, 0 to 9999\n",
      "Data columns (total 15 columns):\n",
      "RowNumber                     10000 non-null int64\n",
      "CustomerId                    10000 non-null int64\n",
      "Surname                       10000 non-null object\n",
      "CreditScore                   10000 non-null int64\n",
      "Geography                     10000 non-null object\n",
      "Gender                        10000 non-null object\n",
      "Age                           10000 non-null int64\n",
      "Tenure                        10000 non-null int64\n",
      "Balance                       10000 non-null float64\n",
      "NumOfProducts                 10000 non-null int64\n",
      "HasCrCard                     10000 non-null int64\n",
      "IsActiveMember                10000 non-null int64\n",
      "EstimatedSalary               10000 non-null float64\n",
      "Exited                        10000 non-null int64\n",
      "Reason for exiting company    10000 non-null object\n",
      "dtypes: float64(2), int64(9), object(4)\n",
      "memory usage: 1.2+ MB\n"
     ]
    }
   ],
   "source": [
    "dataset = dataset.dropna()  \n",
    "print(dataset.isnull().values.any())\n",
    "dataset.head()\n",
    "dataset.info()\n"
   ]
  },
  {
   "cell_type": "code",
   "execution_count": 17,
   "metadata": {},
   "outputs": [],
   "source": [
    "dataset['Geography'] = dataset['Geography'].astype('category')\n",
    "dataset['Gender'] = dataset['Gender'].astype('category')\n",
    "dataset['EstimatedSalary'] = dataset['EstimatedSalary'].astype('float32')\n",
    "dataset['Balance'] = dataset['Balance'].astype('float32')\n",
    "\n"
   ]
  },
  {
   "cell_type": "code",
   "execution_count": 18,
   "metadata": {
    "scrolled": true
   },
   "outputs": [
    {
     "name": "stdout",
     "output_type": "stream",
     "text": [
      "before converting    RowNumber  CustomerId   Surname  CreditScore Geography  Gender  Age  \\\n",
      "0          1    15634602  Hargrave          619    France  Female   42   \n",
      "1          2    15647311      Hill          608     Spain  Female   41   \n",
      "2          3    15619304      Onio          502    France  Female   42   \n",
      "3          4    15701354      Boni          699    France  Female   39   \n",
      "4          5    15737888  Mitchell          850     Spain  Female   43   \n",
      "\n",
      "   Tenure        Balance  NumOfProducts  HasCrCard  IsActiveMember  \\\n",
      "0       2       0.000000              1          1               1   \n",
      "1       1   83807.859375              1          0               1   \n",
      "2       8  159660.796875              3          1               0   \n",
      "3       1       0.000000              2          0               0   \n",
      "4       2  125510.820312              1          1               1   \n",
      "\n",
      "   EstimatedSalary  Exited             Reason for exiting company  \n",
      "0    101348.882812       1  High Service Charges/Rate of Interest  \n",
      "1    112542.578125       0                                    Nil  \n",
      "2    113931.570312       1                    Long Response Times  \n",
      "3     93826.632812       0                                    Nil  \n",
      "4     79084.101562       0                                    Nil  \n",
      "************************************\n",
      "after converting       RowNumber  CustomerId    Surname  CreditScore  Geography  Gender  Age  \\\n",
      "9995       9996    15606229   Obijiaku          771          0       1   39   \n",
      "9996       9997    15569892  Johnstone          516          0       1   35   \n",
      "9997       9998    15584532        Liu          709          0       0   36   \n",
      "9998       9999    15682355  Sabbatini          772          1       1   42   \n",
      "9999      10000    15628319     Walker          792          0       0   28   \n",
      "\n",
      "      Tenure        Balance  NumOfProducts  HasCrCard  IsActiveMember  \\\n",
      "9995       5       0.000000              2          1               0   \n",
      "9996      10   57369.609375              1          1               1   \n",
      "9997       7       0.000000              1          0               1   \n",
      "9998       3   75075.312500              2          1               0   \n",
      "9999       4  130142.789062              1          1               0   \n",
      "\n",
      "      EstimatedSalary  Exited                   Reason for exiting company  \n",
      "9995     96270.640625       0                                          Nil  \n",
      "9996    101699.773438       0                                          Nil  \n",
      "9997     42085.578125       1  Inexperienced Staff / Bad customer service   \n",
      "9998     92888.523438       1                    Excess Documents Required  \n",
      "9999     38190.781250       0                                          Nil  \n"
     ]
    }
   ],
   "source": [
    "from scipy.stats import kurtosis, skew\n",
    "print('before converting',dataset.head())\n",
    "cat_columns = dataset.select_dtypes(['category']).columns\n",
    "dataset[cat_columns] = dataset[cat_columns].apply(lambda x: x.cat.codes)\n",
    "print('************************************')\n",
    "print('after converting',dataset.tail())\n"
   ]
  },
  {
   "cell_type": "code",
   "execution_count": 19,
   "metadata": {},
   "outputs": [
    {
     "data": {
      "text/plain": [
       "array([5.63000000e+02, 2.00000000e+00, 1.00000000e+00, 2.40000000e+01,\n",
       "       7.00000000e+00, 0.00000000e+00, 2.00000000e+00, 0.00000000e+00,\n",
       "       0.00000000e+00, 1.63195596e+04])"
      ]
     },
     "execution_count": 19,
     "metadata": {},
     "output_type": "execute_result"
    }
   ],
   "source": [
    "X = dataset.iloc[:, 3:13].values\n",
    "Y= dataset.iloc[:, 13].values\n",
    "# Splitting the dataset into the Training set and Test set\n",
    "from sklearn.model_selection import train_test_split\n",
    "X_train, X_test, y_train, y_test = train_test_split(X, Y, test_size = 0.25, random_state = 0,stratify=Y)\n",
    "X_test[2]"
   ]
  },
  {
   "cell_type": "code",
   "execution_count": 20,
   "metadata": {},
   "outputs": [
    {
     "name": "stdout",
     "output_type": "stream",
     "text": [
      "X: [[5.44000000e+02 2.00000000e+00 0.00000000e+00 ... 1.00000000e+00\n",
      "  0.00000000e+00 1.25692070e+05]\n",
      " [7.47000000e+02 1.00000000e+00 1.00000000e+00 ... 1.00000000e+00\n",
      "  0.00000000e+00 8.92895391e+04]\n",
      " [6.42000000e+02 0.00000000e+00 1.00000000e+00 ... 1.00000000e+00\n",
      "  1.00000000e+00 1.38052516e+05]\n",
      " ...\n",
      " [6.97000000e+02 1.00000000e+00 0.00000000e+00 ... 1.00000000e+00\n",
      "  1.00000000e+00 7.38779980e+03]\n",
      " [7.22000000e+02 0.00000000e+00 0.00000000e+00 ... 1.00000000e+00\n",
      "  1.00000000e+00 1.50681797e+04]\n",
      " [7.43000000e+02 2.00000000e+00 1.00000000e+00 ... 1.00000000e+00\n",
      "  0.00000000e+00 1.29740109e+05]]\n",
      "Number of training records 7500\n",
      "**************************************************\n",
      "X_test: [[6.97000000e+02 0.00000000e+00 0.00000000e+00 ... 0.00000000e+00\n",
      "  0.00000000e+00 8.78033203e+04]\n",
      " [5.95000000e+02 2.00000000e+00 0.00000000e+00 ... 0.00000000e+00\n",
      "  0.00000000e+00 1.05149797e+05]\n",
      " [5.63000000e+02 2.00000000e+00 1.00000000e+00 ... 0.00000000e+00\n",
      "  0.00000000e+00 1.63195596e+04]\n",
      " ...\n",
      " [6.17000000e+02 0.00000000e+00 1.00000000e+00 ... 1.00000000e+00\n",
      "  1.00000000e+00 1.07047922e+05]\n",
      " [5.12000000e+02 1.00000000e+00 0.00000000e+00 ... 0.00000000e+00\n",
      "  0.00000000e+00 2.31011309e+04]\n",
      " [6.36000000e+02 0.00000000e+00 0.00000000e+00 ... 1.00000000e+00\n",
      "  0.00000000e+00 1.84691766e+05]]\n",
      "Number of testing records 2500\n"
     ]
    }
   ],
   "source": [
    "print(\"X:\",X_train)\n",
    "print(\"Number of training records\",len(X_train))\n",
    "print(\"**************************************************\")\n",
    "print(\"X_test:\",X_test)\n",
    "print(\"Number of testing records\",len(X_test))"
   ]
  },
  {
   "cell_type": "code",
   "execution_count": 21,
   "metadata": {},
   "outputs": [],
   "source": [
    "from sklearn.preprocessing import StandardScaler\n",
    "sc = StandardScaler()\n",
    "X_train = sc.fit_transform(X_train)\n",
    "X_test = sc.transform(X_test)"
   ]
  },
  {
   "cell_type": "code",
   "execution_count": 22,
   "metadata": {},
   "outputs": [
    {
     "name": "stdout",
     "output_type": "stream",
     "text": [
      "[[-1.09958704  1.51817902 -1.09429439 ...  0.64510708 -1.03694883\n",
      "   0.44273632]\n",
      " [ 1.00236569  0.30969434  0.91383087 ...  0.64510708 -1.03694883\n",
      "  -0.18928067]\n",
      " [-0.08485124 -0.89879034  0.91383087 ...  0.64510708  0.96436774\n",
      "   0.65733709]\n",
      " ...\n",
      " [ 0.48464334  0.30969434 -1.09429439 ...  0.64510708  0.96436774\n",
      "  -1.61125022]\n",
      " [ 0.74350452 -0.89879034 -1.09429439 ...  0.64510708  0.96436774\n",
      "  -1.47790425]\n",
      " [ 0.9609479   1.51817902  0.91383087 ...  0.64510708 -1.03694883\n",
      "   0.51301796]]\n",
      "[[ 0.48464334 -0.89879034 -1.09429439 ... -1.55013026 -1.03694883\n",
      "  -0.21508425]\n",
      " [-0.57151025  1.51817902 -1.09429439 ... -1.55013026 -1.03694883\n",
      "   0.08608349]\n",
      " [-0.90285255  1.51817902  0.91383087 ... -1.55013026 -1.03694883\n",
      "  -1.45617792]\n",
      " ...\n",
      " [-0.34371242 -0.89879034  0.91383087 ...  0.64510708  0.96436774\n",
      "   0.11903854]\n",
      " [-1.43092935  0.30969434 -1.09429439 ... -1.55013026 -1.03694883\n",
      "  -1.33843698]\n",
      " [-0.14697792 -0.89879034 -1.09429439 ...  0.64510708 -1.03694883\n",
      "   1.46708294]]\n"
     ]
    }
   ],
   "source": [
    "print(X_train)\n",
    "print(X_test)\n"
   ]
  },
  {
   "cell_type": "code",
   "execution_count": 23,
   "metadata": {},
   "outputs": [
    {
     "name": "stdout",
     "output_type": "stream",
     "text": [
      "=== Accuracy Score ===\n"
     ]
    },
    {
     "data": {
      "text/plain": [
       "0.846"
      ]
     },
     "execution_count": 23,
     "metadata": {},
     "output_type": "execute_result"
    }
   ],
   "source": [
    "from sklearn.ensemble import RandomForestClassifier\n",
    "RFclassifier = RandomForestClassifier(n_estimators=20, max_depth=20,random_state=34)\n",
    "RFclassifier.fit(X_train, y_train)\n",
    "y_pred = RFclassifier.predict(X_test)\n",
    "print(\"=== Accuracy Score ===\")\n",
    "accuracy_score(y_test, y_pred)"
   ]
  },
  {
   "cell_type": "code",
   "execution_count": 24,
   "metadata": {},
   "outputs": [
    {
     "name": "stderr",
     "output_type": "stream",
     "text": [
      "/home/redwuie/miniconda3/envs/py3.7.3_env/lib/python3.7/site-packages/sklearn/linear_model/logistic.py:432: FutureWarning: Default solver will be changed to 'lbfgs' in 0.22. Specify a solver to silence this warning.\n",
      "  FutureWarning)\n"
     ]
    },
    {
     "data": {
      "text/plain": [
       "0.8036"
      ]
     },
     "execution_count": 24,
     "metadata": {},
     "output_type": "execute_result"
    }
   ],
   "source": [
    "from sklearn.linear_model import LogisticRegression\n",
    "\n",
    "clf_lr = LogisticRegression()\n",
    "model = clf_lr.fit(X_train, y_train)\n",
    "y_pred = model.predict(X_test)\n",
    "accuracy_score(y_test, y_pred)"
   ]
  },
  {
   "cell_type": "code",
   "execution_count": 31,
   "metadata": {},
   "outputs": [
    {
     "name": "stdout",
     "output_type": "stream",
     "text": [
      "=== Accuracy Score ===\n",
      "0.8484\n"
     ]
    }
   ],
   "source": [
    "from sklearn.svm import SVC\n",
    "\n",
    "SVCclassifier = SVC(random_state=42,probability=True)\n",
    "SVCclassifier.fit(X_train, y_train)\n",
    "y_pred = SVCclassifier.predict(X_test)\n",
    "print(\"=== Accuracy Score ===\")\n",
    "print(accuracy_score(y_test, y_pred))\n",
    "import pickle\n",
    "filename = 'SVCclassifier.sav'\n",
    "pickle.dump(SVCclassifier, open(filename, 'wb'))"
   ]
  },
  {
   "cell_type": "code",
   "execution_count": 26,
   "metadata": {},
   "outputs": [
    {
     "name": "stdout",
     "output_type": "stream",
     "text": [
      "=== Accuracy Score ===\n",
      "0.79\n"
     ]
    }
   ],
   "source": [
    "from sklearn.tree import DecisionTreeClassifier\n",
    "\n",
    "classifier = DecisionTreeClassifier(criterion = 'entropy', random_state = 0)\n",
    "classifier.fit(X_train, y_train)\n",
    "y_pred = classifier.predict(X_test)\n",
    "print(\"=== Accuracy Score ===\")\n",
    "print(accuracy_score(y_test, y_pred))"
   ]
  },
  {
   "cell_type": "code",
   "execution_count": 29,
   "metadata": {},
   "outputs": [
    {
     "name": "stdout",
     "output_type": "stream",
     "text": [
      "[[1945   46]\n",
      " [ 333  176]]\n"
     ]
    }
   ],
   "source": [
    "from sklearn.metrics import confusion_matrix\n",
    "results = confusion_matrix(y_test, y_pred)\n",
    "print(results)"
   ]
  },
  {
   "cell_type": "code",
   "execution_count": 33,
   "metadata": {},
   "outputs": [
    {
     "name": "stdout",
     "output_type": "stream",
     "text": [
      "The scikit-learn version is 0.21.2.\n"
     ]
    }
   ],
   "source": [
    "\n",
    "import sklearn\n",
    "\n",
    "\n",
    "print('The scikit-learn version is {}.'.format(sklearn.__version__))\n"
   ]
  },
  {
   "cell_type": "code",
   "execution_count": null,
   "metadata": {},
   "outputs": [],
   "source": []
  }
 ],
 "metadata": {
  "kernelspec": {
   "display_name": "Python 2",
   "language": "python",
   "name": "python2"
  },
  "language_info": {
   "codemirror_mode": {
    "name": "ipython",
    "version": 3
   },
   "file_extension": ".py",
   "mimetype": "text/x-python",
   "name": "python",
   "nbconvert_exporter": "python",
   "pygments_lexer": "ipython3",
   "version": "3.7.3"
  }
 },
 "nbformat": 4,
 "nbformat_minor": 2
}
